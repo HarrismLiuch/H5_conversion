{
 "cells": [
  {
   "cell_type": "code",
   "execution_count": null,
   "metadata": {},
   "outputs": [],
   "source": [
    "__author__ = \"Chuhang Liu\"\n",
    "\n",
    "import numpy as np\n",
    "import matplotlib.pyplot as plt\n",
    "import os\n",
    "import imageio\n",
    "import scipy.signal\n",
    "import scipy\n",
    "from matplotlib import figure\n",
    "import h5py\n",
    "import hdf5plugin\n"
   ]
  },
  {
   "cell_type": "code",
   "execution_count": 17,
   "metadata": {},
   "outputs": [],
   "source": [
    "# Define source dict\n",
    "dirstr = 'D:\\\\2100f_data_DECTRIS\\\\YIG_MIT_20240320\\\\50um_s3\\\\x500k\\\\'\n",
    "# Define working dict\n",
    "dest_dir = 'D:\\\\2100f_data_DECTRIS\\\\YIG_MIT_20240320\\\\50um_s3\\\\x500k\\\\im\\\\'"
   ]
  },
  {
   "cell_type": "code",
   "execution_count": 19,
   "metadata": {},
   "outputs": [
    {
     "name": "stderr",
     "output_type": "stream",
     "text": [
      "  0%|          | 0/120 [00:00<?, ?it/s]"
     ]
    },
    {
     "name": "stderr",
     "output_type": "stream",
     "text": [
      "100%|██████████| 120/120 [00:02<00:00, 49.17it/s]\n"
     ]
    }
   ],
   "source": [
    "from tqdm import trange\n",
    "# Define number of image pixels\n",
    "Npixel = 512\n",
    "# Define number of slides\n",
    "Nslide = 120\n",
    "# define crosshair ratio\n",
    "r_crosshair = 0.8886\n",
    "# Define a 3D array for raw data\n",
    "data3d = np.zeros((Npixel,Npixel,Nslide))\n",
    "\n",
    "name = 'v1_HRIM_500k'\n",
    "# Load data\n",
    "for i in trange(Nslide):\n",
    "    num = i + 1\n",
    "    #print(i)\n",
    "    if num >= 1000:\n",
    "        filename = name + '_data_00' + str(num)\n",
    "    elif num >= 100:\n",
    "        filename = name + '_data_000' + str(num)\n",
    "    elif num >= 10:\n",
    "        filename = name + '_data_0000' + str(num)\n",
    "    else:\n",
    "        filename = name + '_data_00000' + str(num)\n",
    "    with h5py.File(dirstr + filename + '.h5', 'r') as f:\n",
    "        # Get the dataset you want to read\n",
    "        dataset = f['entry/data/data']\n",
    "        # Read the dataset into a NumPy array\n",
    "        data = np.array(dataset)\n",
    "        # For images with dead pixels\n",
    "        #data[data == 4294967295] = 0\n",
    "        data = data.reshape(512, 512)\n",
    "        # fix the crosshair mark\n",
    "        #print(data[254:258, 254:258])\n",
    "        data[254:258, :] = data[254:258, :]/r_crosshair\n",
    "        data[:, 254:258] = data[:, 254:258]/r_crosshair\n",
    "        # detect dead pixels position\n",
    "        '''\n",
    "        for i in range(512):\n",
    "            for j in range(512):\n",
    "                \n",
    "                if data[i, j] == 0:\n",
    "                    print(i, j)\n",
    "                    data[i, j] = (data[i-1, j] + data[i+1, j] + data[i, j-1] + data[i, j+1])/4\n",
    "\n",
    "        '''\n",
    "        data[164, 87] = (data[163, 87] + data[165, 87] + data[164, 86] + data[164, 88])/4\n",
    "        data[192,85] = (data[191, 85] + data[193, 85] + data[192, 84] + data[192, 86])/4\n",
    "        # max_threshold = 0.6 * max_val\n",
    "        # min_threshold = 0.2 * max_val\n",
    "        max_val = np.max(data)\n",
    "        #print(\"max_val: \", max_val)\n",
    "        min_val = np.min(data) \n",
    "        #print(\"min_val: \", min_val)\n",
    "        # for image\n",
    "        max_threshold = np.percentile(data, 99.9)\n",
    "        # for diffraction\n",
    "        #max_threshold = np.percentile(data, 99.9)\n",
    "        #print(max_threshold)\n",
    "        data[data > max_threshold] = max_threshold\n",
    "        min_threshold = np.percentile(data, 0.01)\n",
    "        #print(min_threshold)\n",
    "        data[data < min_threshold] = min_threshold\n",
    "\n",
    "\n",
    "        data3d[:,:,i] = data\n",
    "        # generate tiffs\n",
    "        plt.imsave(dest_dir + str(i) + '.tif', data, format = 'tiff', cmap = plt.cm.gray)\n",
    "\n",
    "# Save raw data\n",
    "#np.save(dest_dir + 'data3d_raw.npy', data3d)"
   ]
  },
  {
   "cell_type": "markdown",
   "metadata": {},
   "source": []
  }
 ],
 "metadata": {
  "kernelspec": {
   "display_name": "base",
   "language": "python",
   "name": "python3"
  },
  "language_info": {
   "codemirror_mode": {
    "name": "ipython",
    "version": 3
   },
   "file_extension": ".py",
   "mimetype": "text/x-python",
   "name": "python",
   "nbconvert_exporter": "python",
   "pygments_lexer": "ipython3",
   "version": "3.9.18"
  }
 },
 "nbformat": 4,
 "nbformat_minor": 2
}
