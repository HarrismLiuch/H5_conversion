{
 "cells": [
  {
   "cell_type": "code",
   "execution_count": null,
   "metadata": {},
   "outputs": [],
   "source": [
    "__author__ = \"Chuhang Liu\"\n",
    "\n",
    "import numpy as np\n",
    "import matplotlib.pyplot as plt\n",
    "import os\n",
    "import imageio\n",
    "import scipy.signal\n",
    "import scipy\n",
    "from matplotlib import figure\n",
    "import h5py\n",
    "import hdf5plugin\n"
   ]
  },
  {
   "cell_type": "code",
   "execution_count": null,
   "metadata": {},
   "outputs": [],
   "source": [
    "# Define source dict\n",
    "dirstr = 'D:\\\\2100f_data_DECTRIS\\\\MG\\\\October262023 CSO 90o rotated\\\\V30'\n",
    "# Define working dict\n",
    "dest_dir = 'D:\\\\2100f_data_DECTRIS\\\\MG\\\\October262023 CSO 90o rotated\\\\V30\\\\im'\n",
    "# Define image output dict\n",
    "dest_dir_fig = '20230520_sw/5250MHz/run3_x5000/im/fig/'"
   ]
  },
  {
   "cell_type": "code",
   "execution_count": null,
   "metadata": {},
   "outputs": [],
   "source": [
    "# Define number of image pixels\n",
    "Npixel = 512\n",
    "# Define number of slides\n",
    "Nslide = 37\n",
    "# Define phase interval between two time-resolved slides\n",
    "phase_delay = 5\n",
    "# Define superesolution index\n",
    "sr_index = 4\n",
    "\n",
    "# Define a 3D array for raw data\n",
    "data3d = np.zeros((Npixel,Npixel,Nslide))\n",
    "\n",
    "# Load data\n",
    "for i in range(Nslide):\n",
    "    #num = 180 - phase_delay*(Nslide - 1 - i)\n",
    "    num = phase_delay*i\n",
    "    # print(num, Nslide - 1 - i)\n",
    "    if num >= 100:\n",
    "        filename = str(num) + '_data_000001'\n",
    "    elif num >= 10:\n",
    "        filename = \"0\" + str(num) + '_data_000001' \n",
    "    else:\n",
    "        filename = \"00\" + str(num) + '_data_000001' \n",
    "    with h5py.File(dirstr + filename + '.h5', 'r') as f:\n",
    "        # Get the dataset you want to read\n",
    "        dataset = f['entry/data/data']\n",
    "        # Read the dataset into a NumPy array\n",
    "        data = np.array(dataset)\n",
    "        # For images with dead pixels\n",
    "        #data[data == 4294967295] = 0\n",
    "        data = data.reshape(512, 512)\n",
    "        data3d[:,:,Nslide - 1 - i] = data\n",
    "        # print(\"maxdata = \", np.max(data), \", mean = \", np.average(data))\n",
    "\n",
    "# Save raw data\n",
    "np.save(dest_dir + 'data3d_raw.npy', data3d)"
   ]
  }
 ],
 "metadata": {
  "language_info": {
   "name": "python"
  }
 },
 "nbformat": 4,
 "nbformat_minor": 2
}
