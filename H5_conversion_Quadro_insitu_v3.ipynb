{
 "cells": [
  {
   "cell_type": "code",
   "execution_count": 23,
   "metadata": {},
   "outputs": [],
   "source": [
    "__author__ = \"Chuhang Liu\"\n",
    "\n",
    "import numpy as np\n",
    "import matplotlib.pyplot as plt\n",
    "import os\n",
    "import imageio\n",
    "import scipy.signal\n",
    "import scipy\n",
    "from matplotlib import figure\n",
    "import h5py\n",
    "import hdf5plugin\n",
    "import cv2\n",
    "from tqdm import tqdm"
   ]
  },
  {
   "cell_type": "code",
   "execution_count": 48,
   "metadata": {},
   "outputs": [],
   "source": [
    "# Define source dict\n",
    "dirstr = 'E:\\\\2100f_data_Dectris\\\\FGT_s0_20250414\\\\Lowmag\\\\V\\\\V10_10min_m1mm\\\\'\n",
    "# Define working dict\n",
    "dest_dir = 'E:\\\\2100f_data_Dectris\\\\FGT_s0_20250414\\\\Lowmag\\\\V\\\\V10_10min_m1mm\\\\im\\\\'"
   ]
  },
  {
   "cell_type": "code",
   "execution_count": 49,
   "metadata": {},
   "outputs": [
    {
     "name": "stdout",
     "output_type": "stream",
     "text": [
      "['entry']\n"
     ]
    }
   ],
   "source": [
    "name1 = 'V10_10min'\n",
    "filename = dirstr + name1 +'_master.h5'\n",
    "with h5py.File(filename, 'r') as f:\n",
    "    print(list(f.keys()))\n",
    "    #f.visit(print)\n",
    "    file_list = list(f['entry/data'].keys())"
   ]
  },
  {
   "cell_type": "code",
   "execution_count": null,
   "metadata": {},
   "outputs": [
    {
     "name": "stderr",
     "output_type": "stream",
     "text": [
      "100%|██████████| 60/60 [00:01<00:00, 57.46it/s]\n"
     ]
    }
   ],
   "source": [
    "r_crosshair = 0.8886\n",
    "\n",
    "\n",
    "for file in tqdm(file_list[::100]):\n",
    "    with h5py.File(filename, 'r') as f:\n",
    "        #print(f.keys())\n",
    "        # Load data\n",
    "        dataset = f['entry/data/' + file]\n",
    "        # Read the dataset into a NumPy array\n",
    "        data = np.array(dataset)\n",
    "        # For images with dead pixels\n",
    "        #data[data == 4294967295] = 0\n",
    "        data = data.reshape(512, 512)\n",
    "        # fix the crosshair mark\n",
    "        #print(data[254:258, 254:258])\n",
    "        data[254:258, :] = data[254:258, :]/r_crosshair\n",
    "        data[:, 254:258] = data[:, 254:258]/r_crosshair\n",
    "        # detect dead pixels position\n",
    "        '''\n",
    "        for i in range(512):\n",
    "            for j in range(512):\n",
    "                \n",
    "                if data[i, j] == 0:\n",
    "                    print(i, j)\n",
    "                    data[i, j] = (data[i-1, j] + data[i+1, j] + data[i, j-1] + data[i, j+1])/4\n",
    "\n",
    "        '''\n",
    "        # fix dead pixels\n",
    "        data[164, 87] = (data[163, 87] + data[165, 87] + data[164, 86] + data[164, 88])/4\n",
    "        data[192,85] = (data[191, 85] + data[193, 85] + data[192, 84] + data[192, 86])/4\n",
    "        # max_threshold = 0.6 * max_val\n",
    "        # min_threshold = 0.2 * max_val\n",
    "        max_val = np.max(data)\n",
    "        #print(\"max_val: \", max_val)\n",
    "        min_val = np.min(data) \n",
    "        #print(\"min_val: \", min_val)\n",
    "        # for image\n",
    "        max_threshold = np.percentile(data, 99)\n",
    "        # for diffraction\n",
    "        #max_threshold = np.percentile(data, 99.9)\n",
    "        #print(max_threshold)\n",
    "        data[data > max_threshold] = max_threshold\n",
    "        min_threshold = np.percentile(data, 1)\n",
    "        #print(min_threshold)\n",
    "        data[data < min_threshold] = min_threshold\n",
    "        \n",
    "        # generate tiffs\n",
    "        name = file\n",
    "        # for diffraction\n",
    "        #Cmap = plt.cm.turbo\n",
    "        # for image\n",
    "        Cmap = plt.cm.gray\n",
    "        try:\n",
    "            plt.imsave(dest_dir + name1 +'_' + file + '.tif', data, format='tiff', cmap=Cmap)\n",
    "        except:\n",
    "            os.makedirs(dest_dir, exist_ok=True)\n",
    "            plt.imsave(dest_dir + name1 + '_' + name + '.tif', data, format='tiff', cmap=Cmap)"
   ]
  }
 ],
 "metadata": {
  "kernelspec": {
   "display_name": "base",
   "language": "python",
   "name": "python3"
  },
  "language_info": {
   "codemirror_mode": {
    "name": "ipython",
    "version": 3
   },
   "file_extension": ".py",
   "mimetype": "text/x-python",
   "name": "python",
   "nbconvert_exporter": "python",
   "pygments_lexer": "ipython3",
   "version": "3.9.18"
  }
 },
 "nbformat": 4,
 "nbformat_minor": 2
}
