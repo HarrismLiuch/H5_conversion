{
 "cells": [
  {
   "cell_type": "code",
   "execution_count": 36,
   "metadata": {},
   "outputs": [],
   "source": [
    "__author__ = \"Chuhang Liu\"\n",
    "\n",
    "import numpy as np\n",
    "import matplotlib.pyplot as plt\n",
    "import os\n",
    "import imageio\n",
    "import scipy.signal\n",
    "import scipy\n",
    "from matplotlib import figure\n",
    "import h5py\n",
    "import hdf5plugin\n",
    "import cv2\n"
   ]
  },
  {
   "cell_type": "code",
   "execution_count": 31,
   "metadata": {},
   "outputs": [],
   "source": [
    "# Define source dict\n",
    "dirstr = 'D:\\\\2100f_data_DECTRIS\\\\ASI_S1_10um_20240305\\\\'\n",
    "# Define working dict\n",
    "dest_dir = 'D:\\\\2100f_data_DECTRIS\\\\ASI_S1_10um_20240305\\\\im\\\\'"
   ]
  },
  {
   "cell_type": "code",
   "execution_count": 32,
   "metadata": {},
   "outputs": [
    {
     "name": "stdout",
     "output_type": "stream",
     "text": [
      "['D:\\\\2100f_data_DECTRIS\\\\ASI_S1_10um_20240305\\\\defocus_1mm_x4k_2s_000_master', 'D:\\\\2100f_data_DECTRIS\\\\ASI_S1_10um_20240305\\\\defocus_200um_x4k_2s_000_master', 'D:\\\\2100f_data_DECTRIS\\\\ASI_S1_10um_20240305\\\\defocus_500um_lx6000_1s_000_master', 'D:\\\\2100f_data_DECTRIS\\\\ASI_S1_10um_20240305\\\\defocus_500um_x4k_2s_000_master', 'D:\\\\2100f_data_DECTRIS\\\\ASI_S1_10um_20240305\\\\defocus_n1mm_x4k_2s_000_master', 'D:\\\\2100f_data_DECTRIS\\\\ASI_S1_10um_20240305\\\\defocus_n200um_x4k_2s_000_master', 'D:\\\\2100f_data_DECTRIS\\\\ASI_S1_10um_20240305\\\\defocus_n500nm_lx6000_1s_000_master', 'D:\\\\2100f_data_DECTRIS\\\\ASI_S1_10um_20240305\\\\defocus_n500um_x4k_2s_000_master', 'D:\\\\2100f_data_DECTRIS\\\\ASI_S1_10um_20240305\\\\def_1mm_x3000_master', 'D:\\\\2100f_data_DECTRIS\\\\ASI_S1_10um_20240305\\\\def_n1mm_x3000_master', 'D:\\\\2100f_data_DECTRIS\\\\ASI_S1_10um_20240305\\\\focus_lx6000_1s_000h5_master', 'D:\\\\2100f_data_DECTRIS\\\\ASI_S1_10um_20240305\\\\focus_lx6000_1s_002_master', 'D:\\\\2100f_data_DECTRIS\\\\ASI_S1_10um_20240305\\\\focus_lx6000_1s_003_master', 'D:\\\\2100f_data_DECTRIS\\\\ASI_S1_10um_20240305\\\\focus_x4k_2s_000_master', 'D:\\\\2100f_data_DECTRIS\\\\ASI_S1_10um_20240305\\\\focus_x6000_1s_000_master', 'D:\\\\2100f_data_DECTRIS\\\\ASI_S1_10um_20240305\\\\focus_x6000_1s_001_master', 'D:\\\\2100f_data_DECTRIS\\\\ASI_S1_10um_20240305\\\\focus_x6000_master', 'D:\\\\2100f_data_DECTRIS\\\\ASI_S1_10um_20240305\\\\mag_x100k_000_master', 'D:\\\\2100f_data_DECTRIS\\\\ASI_S1_10um_20240305\\\\mag_x1500k_000_master', 'D:\\\\2100f_data_DECTRIS\\\\ASI_S1_10um_20240305\\\\mag_x1500k_001_master', 'D:\\\\2100f_data_DECTRIS\\\\ASI_S1_10um_20240305\\\\mag_x1500k_002_master', 'D:\\\\2100f_data_DECTRIS\\\\ASI_S1_10um_20240305\\\\mag_x1500k_003_master', 'D:\\\\2100f_data_DECTRIS\\\\ASI_S1_10um_20240305\\\\mag_x1500k_004_master', 'D:\\\\2100f_data_DECTRIS\\\\ASI_S1_10um_20240305\\\\mag_x1500k_005_master', 'D:\\\\2100f_data_DECTRIS\\\\ASI_S1_10um_20240305\\\\mag_x250k_000_defocus_master', 'D:\\\\2100f_data_DECTRIS\\\\ASI_S1_10um_20240305\\\\mag_x250k_000_master', 'D:\\\\2100f_data_DECTRIS\\\\ASI_S1_10um_20240305\\\\mag_x250k_001_defocus_1um_master', 'D:\\\\2100f_data_DECTRIS\\\\ASI_S1_10um_20240305\\\\mag_x250k_001_focus_master', 'D:\\\\2100f_data_DECTRIS\\\\ASI_S1_10um_20240305\\\\mag_x40k_000_master', 'D:\\\\2100f_data_DECTRIS\\\\ASI_S1_10um_20240305\\\\mag_x4k_001_master', 'D:\\\\2100f_data_DECTRIS\\\\ASI_S1_10um_20240305\\\\mag_x4k_002_master', 'D:\\\\2100f_data_DECTRIS\\\\ASI_S1_10um_20240305\\\\mag_x6k_000_master', 'D:\\\\2100f_data_DECTRIS\\\\ASI_S1_10um_20240305\\\\SAED_40cm_250k_tipside_master', 'D:\\\\2100f_data_DECTRIS\\\\ASI_S1_10um_20240305\\\\window1_master']\n"
     ]
    }
   ],
   "source": [
    "import glob\n",
    "\n",
    "folder_path = dirstr\n",
    "file_extension = '*.h5'\n",
    "\n",
    "file_list = glob.glob(folder_path + file_extension)\n",
    "\n",
    "# Find the file with keyword\n",
    "keyword = 'master'\n",
    "# Remove the file extension\n",
    "file_list = [file.rstrip('.h5') for file in file_list if keyword in file]\n",
    "print(file_list)\n",
    "\n",
    "\n"
   ]
  },
  {
   "cell_type": "code",
   "execution_count": 38,
   "metadata": {},
   "outputs": [],
   "source": [
    "for file in file_list:\n",
    "    with h5py.File(file + '.h5', 'r') as f:\n",
    "        #print(f.keys())\n",
    "        \n",
    "        # Load data\n",
    "        dataset = f['entry/data/data_000001']\n",
    "        # Read the dataset into a NumPy array\n",
    "        data = np.array(dataset)\n",
    "        # For images with dead pixels\n",
    "        #data[data == 4294967295] = 0\n",
    "        data = data.reshape(512, 512)\n",
    "        # generate tiffs\n",
    "        name = file.split('\\\\')[-1]\n",
    "        try:\n",
    "            plt.imsave(dest_dir + file + '.tif', data, format='tiff', cmap=plt.cm.gray)\n",
    "        except:\n",
    "            os.makedirs(dest_dir, exist_ok=True)\n",
    "            plt.imsave(dest_dir + name + '.tif', data, format='tiff', cmap=plt.cm.gray)"
   ]
  },
  {
   "cell_type": "code",
   "execution_count": null,
   "metadata": {},
   "outputs": [],
   "source": []
  },
  {
   "cell_type": "code",
   "execution_count": null,
   "metadata": {},
   "outputs": [],
   "source": []
  }
 ],
 "metadata": {
  "kernelspec": {
   "display_name": "base",
   "language": "python",
   "name": "python3"
  },
  "language_info": {
   "codemirror_mode": {
    "name": "ipython",
    "version": 3
   },
   "file_extension": ".py",
   "mimetype": "text/x-python",
   "name": "python",
   "nbconvert_exporter": "python",
   "pygments_lexer": "ipython3",
   "version": "3.9.12"
  }
 },
 "nbformat": 4,
 "nbformat_minor": 2
}
