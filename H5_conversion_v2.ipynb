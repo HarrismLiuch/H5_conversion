{
 "cells": [
  {
   "cell_type": "code",
   "execution_count": 1,
   "metadata": {},
   "outputs": [],
   "source": [
    "__author__ = \"Chuhang Liu\"\n",
    "\n",
    "import numpy as np\n",
    "import matplotlib.pyplot as plt\n",
    "import os\n",
    "import imageio\n",
    "import scipy.signal\n",
    "import scipy\n",
    "from matplotlib import figure\n",
    "import h5py\n",
    "import hdf5plugin\n",
    "import cv2\n"
   ]
  },
  {
   "cell_type": "code",
   "execution_count": 96,
   "metadata": {},
   "outputs": [],
   "source": [
    "# Define source dict\n",
    "dirstr = 'D:\\\\2100f_data_DECTRIS\\\\YIG_MIT_20240320\\\\100um_s1\\\\Mag\\\\x2000\\\\diff\\\\'\n",
    "# Define working dict\n",
    "dest_dir = 'D:\\\\2100f_data_DECTRIS\\\\YIG_MIT_20240320\\\\100um_s1\\\\Mag\\\\x2000\\\\diff\\\\im\\\\'"
   ]
  },
  {
   "cell_type": "code",
   "execution_count": 97,
   "metadata": {},
   "outputs": [
    {
     "name": "stdout",
     "output_type": "stream",
     "text": [
      "['D:\\\\2100f_data_DECTRIS\\\\YIG_MIT_20240320\\\\100um_s1\\\\Mag\\\\x2000\\\\diff\\\\30cm_001_master']\n"
     ]
    }
   ],
   "source": [
    "import glob\n",
    "\n",
    "folder_path = dirstr\n",
    "file_extension = '*.h5'\n",
    "\n",
    "file_list = glob.glob(folder_path + file_extension)\n",
    "\n",
    "# Find the file with keyword\n",
    "keyword = 'master'\n",
    "# Remove the file extension\n",
    "file_list = [file.rstrip('.h5') for file in file_list if keyword in file]\n",
    "print(file_list)\n",
    "\n",
    "\n"
   ]
  },
  {
   "cell_type": "code",
   "execution_count": null,
   "metadata": {},
   "outputs": [],
   "source": [
    "# for videos\n",
    "n_frames = 100\n"
   ]
  },
  {
   "cell_type": "code",
   "execution_count": 98,
   "metadata": {},
   "outputs": [],
   "source": [
    "r_crosshair = 0.8886\n",
    "for file in file_list:\n",
    "    with h5py.File(file + '.h5', 'r') as f:\n",
    "        #print(f.keys())\n",
    "        \n",
    "        # Load data\n",
    "        dataset = f['entry/data/data_000001']\n",
    "        # Read the dataset into a NumPy array\n",
    "        data = np.array(dataset)\n",
    "        # For images with dead pixels\n",
    "        #data[data == 4294967295] = 0\n",
    "        data = data.reshape(512, 512)\n",
    "        # fix the crosshair mark\n",
    "        #print(data[254:258, 254:258])\n",
    "        data[254:258, :] = data[254:258, :]/r_crosshair\n",
    "        data[:, 254:258] = data[:, 254:258]/r_crosshair\n",
    "        # detect dead pixels position\n",
    "        '''\n",
    "        for i in range(512):\n",
    "            for j in range(512):\n",
    "                \n",
    "                if data[i, j] == 0:\n",
    "                    print(i, j)\n",
    "                    data[i, j] = (data[i-1, j] + data[i+1, j] + data[i, j-1] + data[i, j+1])/4\n",
    "\n",
    "        '''\n",
    "        data[164, 87] = (data[163, 87] + data[165, 87] + data[164, 86] + data[164, 88])/4\n",
    "        data[192,85] = (data[191, 85] + data[193, 85] + data[192, 84] + data[192, 86])/4\n",
    "        # max_threshold = 0.6 * max_val\n",
    "        # min_threshold = 0.2 * max_val\n",
    "        max_val = np.max(data)\n",
    "        #print(\"max_val: \", max_val)\n",
    "        min_val = np.min(data) \n",
    "        #print(\"min_val: \", min_val)\n",
    "        # for image\n",
    "        max_threshold = np.percentile(data, 99)\n",
    "        # for diffraction\n",
    "        #max_threshold = np.percentile(data, 99.9)\n",
    "        #print(max_threshold)\n",
    "        data[data > max_threshold] = max_threshold\n",
    "        min_threshold = np.percentile(data, 1)\n",
    "        #print(min_threshold)\n",
    "        data[data < min_threshold] = min_threshold\n",
    "        # fix dead pixels\n",
    "        \n",
    "        # apply thresholds\n",
    "\n",
    "        \n",
    "        # generate tiffs\n",
    "        name = file.split('\\\\')[-1]\n",
    "        # for diffraction\n",
    "        #Cmap = plt.cm.turbo\n",
    "        # for image\n",
    "        Cmap = plt.cm.gray\n",
    "        try:\n",
    "            plt.imsave(dest_dir + file + '.tif', data, format='tiff', cmap=Cmap)\n",
    "        except:\n",
    "            os.makedirs(dest_dir, exist_ok=True)\n",
    "            plt.imsave(dest_dir + name + '.tif', data, format='tiff', cmap=Cmap)"
   ]
  },
  {
   "cell_type": "code",
   "execution_count": null,
   "metadata": {},
   "outputs": [],
   "source": []
  },
  {
   "cell_type": "code",
   "execution_count": null,
   "metadata": {},
   "outputs": [],
   "source": []
  }
 ],
 "metadata": {
  "kernelspec": {
   "display_name": "base",
   "language": "python",
   "name": "python3"
  },
  "language_info": {
   "codemirror_mode": {
    "name": "ipython",
    "version": 3
   },
   "file_extension": ".py",
   "mimetype": "text/x-python",
   "name": "python",
   "nbconvert_exporter": "python",
   "pygments_lexer": "ipython3",
   "version": "3.9.18"
  }
 },
 "nbformat": 4,
 "nbformat_minor": 2
}
